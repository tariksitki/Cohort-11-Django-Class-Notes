{
 "cells": [
  {
   "cell_type": "code",
   "execution_count": 22,
   "metadata": {},
   "outputs": [
    {
     "name": "stdout",
     "output_type": "stream",
     "text": [
      "27\n",
      "30\n"
     ]
    }
   ],
   "source": [
    "# You are keeping score for a baseball game with strange rules. The game consist of several rounds, where the\n",
    "# scores of past rounds may affect future rounds' scores.\n",
    "# At the beginning of the game, you start with an empty record. You are given a list of strings ops, where\n",
    "# ops[i] is the ith operation you must apply to the record and is one of the following:\n",
    "# An integer x - Record a new score of x,\n",
    "# \"+\" - Record a new score that is the sum of the previous scores. It is guaranteed there will always be\n",
    "# two previous scores.\n",
    "# \"D\" - Record a new score that is double the previous score. It is guaranteed there will always be a\n",
    "# previous score.\n",
    "# \"C\" - Invalidate the pevious score, removing it from the record. It is guaranteed there will always be a\n",
    "# previous score.\n",
    "# Return the sum of all the scores on the record.\n",
    "\n",
    "# Input: ops = [\"5\", \"2\", \"C\", \"D\", \"+\"]\n",
    "# Output: 30\n",
    "# Explanation:\n",
    "# \"5\" - Add 5 to the record, record is now[5],\n",
    "# \"2\" - Add 2 to the record, record is now[5, 2],\n",
    "# \"C\" - Invalidate and remove the previous score, record is now[5],\n",
    "# \"D\" - Add 2 * 5 = 10 to the record, record is now[5, 10],\n",
    "# \"+\" - Add 5 + 10 = 15 to the record, record is now[5, 10, 15],\n",
    "# The total sum is 5 + 10 + 15 = 30\n",
    "\n",
    "\n",
    "# Input: ops = [\"5\", \"-2\", \"4\", \"C\", \"D\", \"9\", \"+\", \"+\"]\n",
    "# Output: 27\n",
    "# Explanation:\n",
    "# \"5\" - Add 5 to the record, record is now[5],\n",
    "# \"-2\" - Add - 2 to the record, record is now[5, -2],\n",
    "# \"4\" - Add 4 to the record, record is now[5, -2, 4],\n",
    "# \"C\" - Invalidate and remove the previous score, record is now[5, -2],\n",
    "# \"D\" - Add 2 * -2 = -4 to the record, record is now[5, -2, -4],\n",
    "# \"9\" - Add 9 to the record, record is now[5, -2, -4, 9],\n",
    "# \"+\" - Add - 4 + 9 = 5 to the record, record is now[5, -2, -4, 9, 5],\n",
    "# \"+\" - Add 9 + 5 = 14 to the record, record is now[5, -2, -4, 9, 5, 14],\n",
    "# The total sum is 5 + -2 + -4 + 9 + 5 + 14 = 27.\n",
    "\n",
    "\n",
    "def baseball(input):\n",
    "    output = []\n",
    "    for i in input:\n",
    "        if i.isnumeric():\n",
    "            output.append(int(i))\n",
    "        elif i[0] == \"-\":\n",
    "            output.append(int(i))\n",
    "        elif i.upper() == \"C\":\n",
    "            output.pop()\n",
    "        elif i.upper() == \"D\":\n",
    "            output.append(output[-1] * 2)\n",
    "        elif i == \"+\":\n",
    "            output.append(output[-1] + output[-2])\n",
    "    print(sum(output))\n",
    " \n",
    "baseball([\"5\", \"-2\", \"4\", \"C\", \"D\", \"9\", \"+\", \"+\"])\n",
    "baseball([\"5\", \"2\", \"C\", \"D\", \"+\"])\n"
   ]
  }
 ],
 "metadata": {
  "kernelspec": {
   "display_name": "Python 3.10.2 64-bit",
   "language": "python",
   "name": "python3"
  },
  "language_info": {
   "codemirror_mode": {
    "name": "ipython",
    "version": 3
   },
   "file_extension": ".py",
   "mimetype": "text/x-python",
   "name": "python",
   "nbconvert_exporter": "python",
   "pygments_lexer": "ipython3",
   "version": "3.10.2"
  },
  "orig_nbformat": 4,
  "vscode": {
   "interpreter": {
    "hash": "369f2c481f4da34e4445cda3fffd2e751bd1c4d706f27375911949ba6bb62e1c"
   }
  }
 },
 "nbformat": 4,
 "nbformat_minor": 2
}
